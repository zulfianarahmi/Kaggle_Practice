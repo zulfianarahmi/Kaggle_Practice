{
 "cells": [
  {
   "cell_type": "markdown",
   "id": "59083550",
   "metadata": {
    "papermill": {
     "duration": 0.005471,
     "end_time": "2023-12-31T08:50:47.313676",
     "exception": false,
     "start_time": "2023-12-31T08:50:47.308205",
     "status": "completed"
    },
    "tags": []
   },
   "source": [
    "# US Monthly Birth Data EDA\n",
    "\n",
    "**Content :**\n",
    "* Understand the Dataset\n",
    "* Handle Missing Values\n",
    "* Descriptive Statistics\n",
    "* Data Visualization\n",
    "* Ask and Answer Questions :\n",
    "Total number of entries in the dataset\n",
    "Average number of births per month\n",
    "Month with the highest number of births\n"
   ]
  },
  {
   "cell_type": "markdown",
   "id": "00f9b04a",
   "metadata": {
    "papermill": {
     "duration": 0.004326,
     "end_time": "2023-12-31T08:50:47.323445",
     "exception": false,
     "start_time": "2023-12-31T08:50:47.319119",
     "status": "completed"
    },
    "tags": []
   },
   "source": [
    "**Understand the Dataset**"
   ]
  },
  {
   "cell_type": "code",
   "execution_count": 1,
   "id": "e3bb5535",
   "metadata": {
    "execution": {
     "iopub.execute_input": "2023-12-31T08:50:47.335512Z",
     "iopub.status.busy": "2023-12-31T08:50:47.334090Z",
     "iopub.status.idle": "2023-12-31T08:50:48.965660Z",
     "shell.execute_reply": "2023-12-31T08:50:48.964159Z"
    },
    "papermill": {
     "duration": 1.64032,
     "end_time": "2023-12-31T08:50:48.968361",
     "exception": false,
     "start_time": "2023-12-31T08:50:47.328041",
     "status": "completed"
    },
    "tags": []
   },
   "outputs": [],
   "source": [
    "import pandas as pd\n",
    "import matplotlib.pyplot as plt\n",
    "import seaborn as sns"
   ]
  },
  {
   "cell_type": "code",
   "execution_count": 2,
   "id": "ae16a964",
   "metadata": {
    "execution": {
     "iopub.execute_input": "2023-12-31T08:50:48.979205Z",
     "iopub.status.busy": "2023-12-31T08:50:48.978697Z",
     "iopub.status.idle": "2023-12-31T08:50:49.360618Z",
     "shell.execute_reply": "2023-12-31T08:50:49.359467Z"
    },
    "papermill": {
     "duration": 0.390282,
     "end_time": "2023-12-31T08:50:49.363361",
     "exception": false,
     "start_time": "2023-12-31T08:50:48.973079",
     "status": "completed"
    },
    "tags": []
   },
   "outputs": [],
   "source": [
    "df = pd.read_csv('/kaggle/input/us-monthly-birth-data/allBirthData.csv')"
   ]
  },
  {
   "cell_type": "code",
   "execution_count": 3,
   "id": "1d8f543b",
   "metadata": {
    "execution": {
     "iopub.execute_input": "2023-12-31T08:50:49.374925Z",
     "iopub.status.busy": "2023-12-31T08:50:49.374533Z",
     "iopub.status.idle": "2023-12-31T08:50:49.393101Z",
     "shell.execute_reply": "2023-12-31T08:50:49.392127Z"
    },
    "papermill": {
     "duration": 0.026891,
     "end_time": "2023-12-31T08:50:49.395420",
     "exception": false,
     "start_time": "2023-12-31T08:50:49.368529",
     "status": "completed"
    },
    "tags": []
   },
   "outputs": [
    {
     "name": "stdout",
     "output_type": "stream",
     "text": [
      "   index  Unnamed: 0  State  Month  Year  countyBirths  stateBirths  County\n",
      "0      0           1      1      1  1985          36.0         5027  1001.0\n",
      "1      1           2      1      2  1985          36.0         4627  1001.0\n",
      "2      2           3      1      3  1985          43.0         4738  1001.0\n",
      "3      3           4      1      4  1985          40.0         4626  1001.0\n",
      "4      4           5      1      5  1985          34.0         4834  1001.0\n"
     ]
    }
   ],
   "source": [
    "print(df.head())"
   ]
  },
  {
   "cell_type": "code",
   "execution_count": 4,
   "id": "f1f228cf",
   "metadata": {
    "execution": {
     "iopub.execute_input": "2023-12-31T08:50:49.406966Z",
     "iopub.status.busy": "2023-12-31T08:50:49.406229Z",
     "iopub.status.idle": "2023-12-31T08:50:49.434042Z",
     "shell.execute_reply": "2023-12-31T08:50:49.433203Z"
    },
    "papermill": {
     "duration": 0.035813,
     "end_time": "2023-12-31T08:50:49.436087",
     "exception": false,
     "start_time": "2023-12-31T08:50:49.400274",
     "status": "completed"
    },
    "tags": []
   },
   "outputs": [
    {
     "name": "stdout",
     "output_type": "stream",
     "text": [
      "<class 'pandas.core.frame.DataFrame'>\n",
      "RangeIndex: 321475 entries, 0 to 321474\n",
      "Data columns (total 8 columns):\n",
      " #   Column        Non-Null Count   Dtype  \n",
      "---  ------        --------------   -----  \n",
      " 0   index         321475 non-null  int64  \n",
      " 1   Unnamed: 0    321475 non-null  int64  \n",
      " 2   State         321475 non-null  int64  \n",
      " 3   Month         321475 non-null  int64  \n",
      " 4   Year          321475 non-null  int64  \n",
      " 5   countyBirths  293021 non-null  float64\n",
      " 6   stateBirths   321475 non-null  int64  \n",
      " 7   County        312919 non-null  float64\n",
      "dtypes: float64(2), int64(6)\n",
      "memory usage: 19.6 MB\n",
      "None\n"
     ]
    }
   ],
   "source": [
    "print(df.info())"
   ]
  },
  {
   "cell_type": "code",
   "execution_count": 5,
   "id": "261ba469",
   "metadata": {
    "execution": {
     "iopub.execute_input": "2023-12-31T08:50:49.448093Z",
     "iopub.status.busy": "2023-12-31T08:50:49.446934Z",
     "iopub.status.idle": "2023-12-31T08:50:49.453997Z",
     "shell.execute_reply": "2023-12-31T08:50:49.453220Z"
    },
    "papermill": {
     "duration": 0.014767,
     "end_time": "2023-12-31T08:50:49.455781",
     "exception": false,
     "start_time": "2023-12-31T08:50:49.441014",
     "status": "completed"
    },
    "tags": []
   },
   "outputs": [
    {
     "data": {
      "text/plain": [
       "(321475, 8)"
      ]
     },
     "execution_count": 5,
     "metadata": {},
     "output_type": "execute_result"
    }
   ],
   "source": [
    "df.shape"
   ]
  },
  {
   "cell_type": "markdown",
   "id": "4cf89ff2",
   "metadata": {
    "papermill": {
     "duration": 0.00462,
     "end_time": "2023-12-31T08:50:49.465469",
     "exception": false,
     "start_time": "2023-12-31T08:50:49.460849",
     "status": "completed"
    },
    "tags": []
   },
   "source": [
    "**Descriptive Statistics**"
   ]
  },
  {
   "cell_type": "code",
   "execution_count": 6,
   "id": "77e82e0f",
   "metadata": {
    "execution": {
     "iopub.execute_input": "2023-12-31T08:50:49.477215Z",
     "iopub.status.busy": "2023-12-31T08:50:49.476295Z",
     "iopub.status.idle": "2023-12-31T08:50:49.662388Z",
     "shell.execute_reply": "2023-12-31T08:50:49.661521Z"
    },
    "papermill": {
     "duration": 0.194336,
     "end_time": "2023-12-31T08:50:49.664626",
     "exception": false,
     "start_time": "2023-12-31T08:50:49.470290",
     "status": "completed"
    },
    "tags": []
   },
   "outputs": [
    {
     "data": {
      "text/html": [
       "<div>\n",
       "<style scoped>\n",
       "    .dataframe tbody tr th:only-of-type {\n",
       "        vertical-align: middle;\n",
       "    }\n",
       "\n",
       "    .dataframe tbody tr th {\n",
       "        vertical-align: top;\n",
       "    }\n",
       "\n",
       "    .dataframe thead th {\n",
       "        text-align: right;\n",
       "    }\n",
       "</style>\n",
       "<table border=\"1\" class=\"dataframe\">\n",
       "  <thead>\n",
       "    <tr style=\"text-align: right;\">\n",
       "      <th></th>\n",
       "      <th>index</th>\n",
       "      <th>Unnamed: 0</th>\n",
       "      <th>State</th>\n",
       "      <th>Month</th>\n",
       "      <th>Year</th>\n",
       "      <th>countyBirths</th>\n",
       "      <th>stateBirths</th>\n",
       "      <th>County</th>\n",
       "    </tr>\n",
       "  </thead>\n",
       "  <tbody>\n",
       "    <tr>\n",
       "      <th>count</th>\n",
       "      <td>321475.000000</td>\n",
       "      <td>321475.000000</td>\n",
       "      <td>321475.000000</td>\n",
       "      <td>321475.000000</td>\n",
       "      <td>321475.000000</td>\n",
       "      <td>293021.000000</td>\n",
       "      <td>321475.000000</td>\n",
       "      <td>312919.000000</td>\n",
       "    </tr>\n",
       "    <tr>\n",
       "      <th>mean</th>\n",
       "      <td>160737.000000</td>\n",
       "      <td>160738.000000</td>\n",
       "      <td>27.539090</td>\n",
       "      <td>6.499827</td>\n",
       "      <td>1995.184105</td>\n",
       "      <td>423.848031</td>\n",
       "      <td>10593.063513</td>\n",
       "      <td>29808.121498</td>\n",
       "    </tr>\n",
       "    <tr>\n",
       "      <th>std</th>\n",
       "      <td>92801.983231</td>\n",
       "      <td>92801.983231</td>\n",
       "      <td>14.650896</td>\n",
       "      <td>3.451752</td>\n",
       "      <td>9.903407</td>\n",
       "      <td>874.985159</td>\n",
       "      <td>10146.307216</td>\n",
       "      <td>15277.899230</td>\n",
       "    </tr>\n",
       "    <tr>\n",
       "      <th>min</th>\n",
       "      <td>0.000000</td>\n",
       "      <td>1.000000</td>\n",
       "      <td>1.000000</td>\n",
       "      <td>1.000000</td>\n",
       "      <td>1985.000000</td>\n",
       "      <td>10.000000</td>\n",
       "      <td>417.000000</td>\n",
       "      <td>36.000000</td>\n",
       "    </tr>\n",
       "    <tr>\n",
       "      <th>25%</th>\n",
       "      <td>80368.500000</td>\n",
       "      <td>80369.500000</td>\n",
       "      <td>15.000000</td>\n",
       "      <td>4.000000</td>\n",
       "      <td>1987.000000</td>\n",
       "      <td>49.000000</td>\n",
       "      <td>4220.000000</td>\n",
       "      <td>17195.000000</td>\n",
       "    </tr>\n",
       "    <tr>\n",
       "      <th>50%</th>\n",
       "      <td>160737.000000</td>\n",
       "      <td>160738.000000</td>\n",
       "      <td>27.000000</td>\n",
       "      <td>7.000000</td>\n",
       "      <td>1991.000000</td>\n",
       "      <td>170.000000</td>\n",
       "      <td>6892.000000</td>\n",
       "      <td>29195.000000</td>\n",
       "    </tr>\n",
       "    <tr>\n",
       "      <th>75%</th>\n",
       "      <td>241105.500000</td>\n",
       "      <td>241106.500000</td>\n",
       "      <td>41.000000</td>\n",
       "      <td>9.000000</td>\n",
       "      <td>2004.000000</td>\n",
       "      <td>422.000000</td>\n",
       "      <td>13033.000000</td>\n",
       "      <td>42079.000000</td>\n",
       "    </tr>\n",
       "    <tr>\n",
       "      <th>max</th>\n",
       "      <td>321474.000000</td>\n",
       "      <td>321475.000000</td>\n",
       "      <td>56.000000</td>\n",
       "      <td>12.000000</td>\n",
       "      <td>2015.000000</td>\n",
       "      <td>18419.000000</td>\n",
       "      <td>55066.000000</td>\n",
       "      <td>56999.000000</td>\n",
       "    </tr>\n",
       "  </tbody>\n",
       "</table>\n",
       "</div>"
      ],
      "text/plain": [
       "               index     Unnamed: 0          State          Month  \\\n",
       "count  321475.000000  321475.000000  321475.000000  321475.000000   \n",
       "mean   160737.000000  160738.000000      27.539090       6.499827   \n",
       "std     92801.983231   92801.983231      14.650896       3.451752   \n",
       "min         0.000000       1.000000       1.000000       1.000000   \n",
       "25%     80368.500000   80369.500000      15.000000       4.000000   \n",
       "50%    160737.000000  160738.000000      27.000000       7.000000   \n",
       "75%    241105.500000  241106.500000      41.000000       9.000000   \n",
       "max    321474.000000  321475.000000      56.000000      12.000000   \n",
       "\n",
       "                Year   countyBirths    stateBirths         County  \n",
       "count  321475.000000  293021.000000  321475.000000  312919.000000  \n",
       "mean     1995.184105     423.848031   10593.063513   29808.121498  \n",
       "std         9.903407     874.985159   10146.307216   15277.899230  \n",
       "min      1985.000000      10.000000     417.000000      36.000000  \n",
       "25%      1987.000000      49.000000    4220.000000   17195.000000  \n",
       "50%      1991.000000     170.000000    6892.000000   29195.000000  \n",
       "75%      2004.000000     422.000000   13033.000000   42079.000000  \n",
       "max      2015.000000   18419.000000   55066.000000   56999.000000  "
      ]
     },
     "execution_count": 6,
     "metadata": {},
     "output_type": "execute_result"
    }
   ],
   "source": [
    "df.describe()"
   ]
  },
  {
   "cell_type": "markdown",
   "id": "cd75e57d",
   "metadata": {
    "papermill": {
     "duration": 0.005006,
     "end_time": "2023-12-31T08:50:49.675103",
     "exception": false,
     "start_time": "2023-12-31T08:50:49.670097",
     "status": "completed"
    },
    "tags": []
   },
   "source": [
    "**Handle Missing Values**"
   ]
  },
  {
   "cell_type": "code",
   "execution_count": 7,
   "id": "c34606b5",
   "metadata": {
    "execution": {
     "iopub.execute_input": "2023-12-31T08:50:49.687278Z",
     "iopub.status.busy": "2023-12-31T08:50:49.686853Z",
     "iopub.status.idle": "2023-12-31T08:50:49.704144Z",
     "shell.execute_reply": "2023-12-31T08:50:49.703154Z"
    },
    "papermill": {
     "duration": 0.026244,
     "end_time": "2023-12-31T08:50:49.706506",
     "exception": false,
     "start_time": "2023-12-31T08:50:49.680262",
     "status": "completed"
    },
    "tags": []
   },
   "outputs": [],
   "source": [
    "df.dropna(inplace=True)"
   ]
  },
  {
   "cell_type": "code",
   "execution_count": 8,
   "id": "1630533d",
   "metadata": {
    "execution": {
     "iopub.execute_input": "2023-12-31T08:50:49.719885Z",
     "iopub.status.busy": "2023-12-31T08:50:49.718866Z",
     "iopub.status.idle": "2023-12-31T08:50:49.829066Z",
     "shell.execute_reply": "2023-12-31T08:50:49.828202Z"
    },
    "papermill": {
     "duration": 0.119063,
     "end_time": "2023-12-31T08:50:49.831230",
     "exception": false,
     "start_time": "2023-12-31T08:50:49.712167",
     "status": "completed"
    },
    "tags": []
   },
   "outputs": [
    {
     "data": {
      "text/plain": [
       "0"
      ]
     },
     "execution_count": 8,
     "metadata": {},
     "output_type": "execute_result"
    }
   ],
   "source": [
    "df.duplicated().sum()"
   ]
  },
  {
   "cell_type": "code",
   "execution_count": 9,
   "id": "d4696bdb",
   "metadata": {
    "execution": {
     "iopub.execute_input": "2023-12-31T08:50:49.843703Z",
     "iopub.status.busy": "2023-12-31T08:50:49.843313Z",
     "iopub.status.idle": "2023-12-31T08:50:49.950335Z",
     "shell.execute_reply": "2023-12-31T08:50:49.949181Z"
    },
    "papermill": {
     "duration": 0.116207,
     "end_time": "2023-12-31T08:50:49.952874",
     "exception": false,
     "start_time": "2023-12-31T08:50:49.836667",
     "status": "completed"
    },
    "tags": []
   },
   "outputs": [
    {
     "name": "stdout",
     "output_type": "stream",
     "text": [
      "Duplicate :  0\n"
     ]
    }
   ],
   "source": [
    "print(\"Duplicate : \", df.duplicated().sum())"
   ]
  },
  {
   "cell_type": "markdown",
   "id": "b9c71205",
   "metadata": {
    "papermill": {
     "duration": 0.005688,
     "end_time": "2023-12-31T08:50:49.964582",
     "exception": false,
     "start_time": "2023-12-31T08:50:49.958894",
     "status": "completed"
    },
    "tags": []
   },
   "source": [
    "**Data Visualization**"
   ]
  },
  {
   "cell_type": "code",
   "execution_count": 10,
   "id": "6d7e80f4",
   "metadata": {
    "execution": {
     "iopub.execute_input": "2023-12-31T08:50:49.977844Z",
     "iopub.status.busy": "2023-12-31T08:50:49.977469Z",
     "iopub.status.idle": "2023-12-31T08:50:51.979668Z",
     "shell.execute_reply": "2023-12-31T08:50:51.978525Z"
    },
    "papermill": {
     "duration": 2.011812,
     "end_time": "2023-12-31T08:50:51.982035",
     "exception": false,
     "start_time": "2023-12-31T08:50:49.970223",
     "status": "completed"
    },
    "tags": []
   },
   "outputs": [
    {
     "data": {
      "image/png": "[encoded data removed]",
      "text/plain": [
       "<Figure size 640x480 with 1 Axes>"
      ]
     },
     "metadata": {},
     "output_type": "display_data"
    }
   ],
   "source": [
    "sns.histplot(df['stateBirths'], kde=True)\n",
    "plt.title('Distribution of Births: ')\n",
    "plt.show()"
   ]
  },
  {
   "cell_type": "code",
   "execution_count": 11,
   "id": "eb33532f",
   "metadata": {
    "execution": {
     "iopub.execute_input": "2023-12-31T08:50:51.996659Z",
     "iopub.status.busy": "2023-12-31T08:50:51.996278Z",
     "iopub.status.idle": "2023-12-31T08:50:52.548378Z",
     "shell.execute_reply": "2023-12-31T08:50:52.547496Z"
    },
    "papermill": {
     "duration": 0.561839,
     "end_time": "2023-12-31T08:50:52.550476",
     "exception": false,
     "start_time": "2023-12-31T08:50:51.988637",
     "status": "completed"
    },
    "tags": []
   },
   "outputs": [
    {
     "data": {
      "image/png": "[encoded data removed]",
      "text/plain": [
       "<Figure size 640x480 with 2 Axes>"
      ]
     },
     "metadata": {},
     "output_type": "display_data"
    }
   ],
   "source": [
    "correlation_matrix = df.corr()\n",
    "\n",
    "sns.heatmap(correlation_matrix, annot=True, cmap='coolwarm')\n",
    "plt.title('Heatmap of Correlation')\n",
    "plt.show()"
   ]
  },
  {
   "cell_type": "markdown",
   "id": "1367be5e",
   "metadata": {
    "papermill": {
     "duration": 0.007721,
     "end_time": "2023-12-31T08:50:52.565584",
     "exception": false,
     "start_time": "2023-12-31T08:50:52.557863",
     "status": "completed"
    },
    "tags": []
   },
   "source": [
    "**Ask and Answer Questions**"
   ]
  },
  {
   "cell_type": "code",
   "execution_count": 12,
   "id": "62142d2c",
   "metadata": {
    "execution": {
     "iopub.execute_input": "2023-12-31T08:50:52.583561Z",
     "iopub.status.busy": "2023-12-31T08:50:52.582470Z",
     "iopub.status.idle": "2023-12-31T08:50:52.587883Z",
     "shell.execute_reply": "2023-12-31T08:50:52.586867Z"
    },
    "papermill": {
     "duration": 0.016292,
     "end_time": "2023-12-31T08:50:52.590076",
     "exception": false,
     "start_time": "2023-12-31T08:50:52.573784",
     "status": "completed"
    },
    "tags": []
   },
   "outputs": [
    {
     "name": "stdout",
     "output_type": "stream",
     "text": [
      "Total number of entries in the dataset: 284466\n"
     ]
    }
   ],
   "source": [
    "#Total Data\n",
    "total_data = df.shape[0]\n",
    "print(\"Total number of entries in the dataset:\", total_data)"
   ]
  },
  {
   "cell_type": "code",
   "execution_count": 13,
   "id": "c7bf98da",
   "metadata": {
    "execution": {
     "iopub.execute_input": "2023-12-31T08:50:52.607465Z",
     "iopub.status.busy": "2023-12-31T08:50:52.606683Z",
     "iopub.status.idle": "2023-12-31T08:50:52.613537Z",
     "shell.execute_reply": "2023-12-31T08:50:52.612372Z"
    },
    "papermill": {
     "duration": 0.017691,
     "end_time": "2023-12-31T08:50:52.615521",
     "exception": false,
     "start_time": "2023-12-31T08:50:52.597830",
     "status": "completed"
    },
    "tags": []
   },
   "outputs": [
    {
     "name": "stdout",
     "output_type": "stream",
     "text": [
      "Average number of births per month: 11091.049193928273\n"
     ]
    }
   ],
   "source": [
    "#Average Births\n",
    "average_births = df['stateBirths'].mean()\n",
    "print(\"Average number of births per month:\", average_births)"
   ]
  },
  {
   "cell_type": "code",
   "execution_count": 14,
   "id": "5f1cbdf7",
   "metadata": {
    "execution": {
     "iopub.execute_input": "2023-12-31T08:50:52.633521Z",
     "iopub.status.busy": "2023-12-31T08:50:52.632554Z",
     "iopub.status.idle": "2023-12-31T08:50:52.646044Z",
     "shell.execute_reply": "2023-12-31T08:50:52.644808Z"
    },
    "papermill": {
     "duration": 0.024981,
     "end_time": "2023-12-31T08:50:52.648394",
     "exception": false,
     "start_time": "2023-12-31T08:50:52.623413",
     "status": "completed"
    },
    "tags": []
   },
   "outputs": [
    {
     "name": "stdout",
     "output_type": "stream",
     "text": [
      "Month with the highest number of births: 8\n"
     ]
    }
   ],
   "source": [
    "#Month with the Highest Births\n",
    "highest_births_month = df.groupby('Month')['stateBirths'].sum().idxmax()\n",
    "print(\"Month with the highest number of births:\", highest_births_month)"
   ]
  }
 ],
 "metadata": {
  "kaggle": {
   "accelerator": "none",
   "dataSources": [
    {
     "datasetId": 4108057,
     "sourceId": 7122082,
     "sourceType": "datasetVersion"
    }
   ],
   "dockerImageVersionId": 30626,
   "isGpuEnabled": false,
   "isInternetEnabled": true,
   "language": "python",
   "sourceType": "notebook"
  },
  "kernelspec": {
   "display_name": "Python 3",
   "language": "python",
   "name": "python3"
  },
  "language_info": {
   "codemirror_mode": {
    "name": "ipython",
    "version": 3
   },
   "file_extension": ".py",
   "mimetype": "text/x-python",
   "name": "python",
   "nbconvert_exporter": "python",
   "pygments_lexer": "ipython3",
   "version": "3.10.12"
  },
  "papermill": {
   "default_parameters": {},
   "duration": 9.009754,
   "end_time": "2023-12-31T08:50:53.278595",
   "environment_variables": {},
   "exception": null,
   "input_path": "__notebook__.ipynb",
   "output_path": "__notebook__.ipynb",
   "parameters": {},
   "start_time": "2023-12-31T08:50:44.268841",
   "version": "2.4.0"
  }
 },
 "nbformat": 4,
 "nbformat_minor": 5
}
